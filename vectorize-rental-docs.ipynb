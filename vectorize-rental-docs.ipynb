{
 "cells": [
  {
   "cell_type": "code",
   "execution_count": 1,
   "metadata": {},
   "outputs": [
    {
     "name": "stderr",
     "output_type": "stream",
     "text": [
      "/Users/haggarwal/miniconda3/envs/google_hackathon/lib/python3.12/site-packages/tqdm/auto.py:21: TqdmWarning: IProgress not found. Please update jupyter and ipywidgets. See https://ipywidgets.readthedocs.io/en/stable/user_install.html\n",
      "  from .autonotebook import tqdm as notebook_tqdm\n"
     ]
    }
   ],
   "source": [
    "import os\n",
    "from langchain_community.document_loaders import PyPDFLoader\n",
    "from langchain.text_splitter import RecursiveCharacterTextSplitter\n",
    "from sentence_transformers import SentenceTransformer\n",
    "from pinecone import Pinecone"
   ]
  },
  {
   "cell_type": "code",
   "execution_count": 2,
   "metadata": {},
   "outputs": [],
   "source": [
    "pc = Pinecone(api_key=\"pcsk_6XSjon_UYY1pDQBYf3ecN7sYPiJgWdSRYBY1yTfjiFoDQ88WmPvFBLJqaPv8CDR6GfUk6r\")"
   ]
  },
  {
   "cell_type": "code",
   "execution_count": 11,
   "metadata": {},
   "outputs": [],
   "source": [
    "index = pc.Index(\"loan-laws\")"
   ]
  },
  {
   "cell_type": "code",
   "execution_count": 12,
   "metadata": {},
   "outputs": [
    {
     "name": "stdout",
     "output_type": "stream",
     "text": [
      "Total chunks: 804\n"
     ]
    }
   ],
   "source": [
    "pdf_files = [\"/Users/haggarwal/Documents/legal-analyzer-app/temp/loan_1.pdf\", \"/Users/haggarwal/Documents/legal-analyzer-app/temp/loan_2.pdf\",\"/Users/haggarwal/Documents/legal-analyzer-app/temp/loan_3.pdf\"]\n",
    "docs = []\n",
    "\n",
    "for pdf in pdf_files:\n",
    "    loader = PyPDFLoader(pdf)\n",
    "    pages = loader.load()\n",
    "    for page_num, page in enumerate(pages):\n",
    "        splitter = RecursiveCharacterTextSplitter(chunk_size=1000, chunk_overlap=200)\n",
    "        chunks = splitter.split_documents([page])\n",
    "        for i, chunk in enumerate(chunks):\n",
    "            chunk.metadata.update({\n",
    "                \"source\": pdf,\n",
    "                \"page\": page_num + 1,\n",
    "                \"chunk_id\": f\"{pdf}_p{page_num+1}_c{i}\"\n",
    "            })\n",
    "            docs.append(chunk)\n",
    "\n",
    "print(f\"Total chunks: {len(docs)}\")"
   ]
  },
  {
   "cell_type": "code",
   "execution_count": 13,
   "metadata": {},
   "outputs": [
    {
     "data": {
      "text/plain": [
       "Document(metadata={'producer': 'Microsoft® Word 2019', 'creator': 'Microsoft® Word 2019', 'creationdate': '2021-06-08T14:50:53-07:00', 'author': 'HP', 'moddate': '2021-06-08T14:50:53-07:00', 'source': '/Users/haggarwal/Documents/legal-analyzer-app/temp/loan_1.pdf', 'total_pages': 106, 'page': 1, 'page_label': '1', 'chunk_id': '/Users/haggarwal/Documents/legal-analyzer-app/temp/loan_1.pdf_p1_c0'}, page_content='1 \\n \\nTHE BANKING REGULATION ACT, 1949 \\n__________ \\nARRANGEMENT OF SECTIONS \\n____________ \\nPART I \\nPRELIMINARY \\nSECTIONS \\n1. Short title, extent and commencement. \\n2. Application of other laws not barred. \\n3. Act not to apply to certain co-operative societies. \\n4. Power to suspend operation of Act. \\n5. Interpretation. \\n5A. Act to override memorandum, articles, etc. \\nPART II \\nBUSINESS OF BANKING COMPANIES \\n6. Form of business in which banking companies may engage. \\n7. Use of words “bank”, “banker”, “banking” or “banking company”. \\n8. Prohibition of trading. \\n9. Disposal of non-banking assets. \\n10. Prohibition of employment of managing agents and restrictions on certain forms of \\nemployment. \\n10A. Board of directors to include persons with professional or other experience. \\n10B. Banking company to be managed by whole time chairman. \\n10BB. Power of Reserve Bank to appoint chairman of the Board of directors appointed on a')"
      ]
     },
     "execution_count": 13,
     "metadata": {},
     "output_type": "execute_result"
    }
   ],
   "source": [
    "docs[0]"
   ]
  },
  {
   "cell_type": "code",
   "execution_count": 14,
   "metadata": {},
   "outputs": [],
   "source": [
    "embedder = SentenceTransformer(\"sentence-transformers/all-mpnet-base-v2\")  "
   ]
  },
  {
   "cell_type": "code",
   "execution_count": 15,
   "metadata": {},
   "outputs": [],
   "source": [
    "vectors = []\n",
    "for doc in docs:\n",
    "    emb = embedder.encode(doc.page_content).tolist()  # numpy -> list\n",
    "    vectors.append({\n",
    "        \"id\": doc.metadata[\"chunk_id\"],\n",
    "        \"values\": emb,\n",
    "        \"metadata\": {\n",
    "            \"source\": doc.metadata[\"source\"],\n",
    "            \"page\": doc.metadata[\"page\"],\n",
    "            \"text\": doc.page_content\n",
    "        }\n",
    "    })"
   ]
  },
  {
   "cell_type": "code",
   "execution_count": 25,
   "metadata": {},
   "outputs": [
    {
     "name": "stderr",
     "output_type": "stream",
     "text": [
      "100%|██████████| 9/9 [00:55<00:00,  6.16s/it]"
     ]
    },
    {
     "name": "stdout",
     "output_type": "stream",
     "text": [
      "✅ Data upserted successfully in batches.\n"
     ]
    },
    {
     "name": "stderr",
     "output_type": "stream",
     "text": [
      "\n"
     ]
    }
   ],
   "source": [
    "# index.upsert(vectors)\n",
    "# print(\"✅ Data upserted into Pinecone with SentenceTransformer embeddings.\") This wont work when vector size is more than 2MBs\n",
    "\n",
    "from tqdm import tqdm\n",
    "\n",
    "def batch_upsert(index, vectors, namespace=None, batch_size=100):\n",
    "    for i in tqdm(range(0, len(vectors), batch_size)):\n",
    "        batch = vectors[i:i+batch_size]\n",
    "        index.upsert(vectors=batch)\n",
    "    print(\"✅ Data upserted successfully in batches.\")\n",
    "\n",
    "# Example usage:\n",
    "batch_upsert(index, vectors, namespace=\"default\", batch_size=100)\n"
   ]
  },
  {
   "cell_type": "code",
   "execution_count": 26,
   "metadata": {},
   "outputs": [
    {
     "name": "stdout",
     "output_type": "stream",
     "text": [
      "{'dimension': 768,\n",
      " 'index_fullness': 0.0,\n",
      " 'metric': 'cosine',\n",
      " 'namespaces': {'': {'vector_count': 804}},\n",
      " 'total_vector_count': 804,\n",
      " 'vector_type': 'dense'}\n"
     ]
    }
   ],
   "source": [
    "print(index.describe_index_stats())"
   ]
  },
  {
   "cell_type": "code",
   "execution_count": 27,
   "metadata": {},
   "outputs": [
    {
     "name": "stdout",
     "output_type": "stream",
     "text": [
      "Score: 0.348\n",
      "Source: /Users/haggarwal/Documents/legal-analyzer-app/temp/loan_2.pdf (p24.0)\n",
      "Text: sub-section (1). \n",
      "(6) If the application is not disposed of by the Debts Recovery Tribunal within the period of four \n",
      "months as specified in sub-section (5), any part to the application may make an ap...\n",
      "---\n",
      "Score: 0.343\n",
      "Source: /Users/haggarwal/Documents/legal-analyzer-app/temp/loan_2.pdf (p29.0)\n",
      "Text: (b) that on other grounds, it is just and equitable to grant relief, \n",
      "may, on the appli cation of a secured creditor or 5[asset reconstruction company ] or any other person \n",
      "interested on such terms a...\n",
      "---\n",
      "Score: 0.343\n",
      "Source: /Users/haggarwal/Documents/legal-analyzer-app/temp/loan_1.pdf (p26.0)\n",
      "Text: which the loan or advance was made, or is granted by a banking company after the commencement of \n",
      "section 5 of the Banking Laws (Amendment) Act, 1968 (58 of 1968), but in pursuance of a commitment \n",
      "en...\n",
      "---\n",
      "Score: 0.342\n",
      "Source: /Users/haggarwal/Documents/legal-analyzer-app/temp/loan_2.pdf (p25.0)\n",
      "Text: 25 \n",
      " \n",
      "18. Appeal to Appellate Tribunal .—(1) Any person aggrieved, by any order made by the Debts \n",
      "Recovery Tribunal1[under section 17, may prefer an appeal along with such fee, as may be prescribed] ...\n",
      "---\n",
      "Score: 0.334\n",
      "Source: /Users/haggarwal/Documents/legal-analyzer-app/temp/loan_1.pdf (p32.0)\n",
      "Text: 32 \n",
      " \n",
      "(7) When under the provisions of clause (b) of sub-section (4), penal interest at the increased rate of \n",
      "five per cent. above the bank rate has become payable by a banking company, if thereafter...\n",
      "---\n"
     ]
    }
   ],
   "source": [
    "query = \"What if I delay my loan EMI by 1 month?\"\n",
    "q_emb = embedder.encode(query).tolist()\n",
    "\n",
    "results = index.query(\n",
    "    vector=q_emb,\n",
    "    top_k=5,\n",
    "    include_metadata=True\n",
    ")\n",
    "\n",
    "for match in results[\"matches\"]:\n",
    "    print(f\"Score: {match['score']:.3f}\")\n",
    "    print(f\"Source: {match['metadata']['source']} (p{match['metadata']['page']})\")\n",
    "    print(f\"Text: {match['metadata']['text'][:200]}...\")\n",
    "    print(\"---\")\n"
   ]
  },
  {
   "cell_type": "code",
   "execution_count": null,
   "metadata": {},
   "outputs": [],
   "source": []
  }
 ],
 "metadata": {
  "kernelspec": {
   "display_name": "google_hackathon",
   "language": "python",
   "name": "python3"
  },
  "language_info": {
   "codemirror_mode": {
    "name": "ipython",
    "version": 3
   },
   "file_extension": ".py",
   "mimetype": "text/x-python",
   "name": "python",
   "nbconvert_exporter": "python",
   "pygments_lexer": "ipython3",
   "version": "3.12.9"
  }
 },
 "nbformat": 4,
 "nbformat_minor": 2
}
